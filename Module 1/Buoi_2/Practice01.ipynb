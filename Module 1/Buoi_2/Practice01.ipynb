{
 "cells": [
  {
   "cell_type": "markdown",
   "metadata": {},
   "source": [
    "EXERCISE 1:"
   ]
  },
  {
   "cell_type": "code",
   "execution_count": 3,
   "metadata": {},
   "outputs": [
    {
     "name": "stdout",
     "output_type": "stream",
     "text": [
      "25.0 cm = 0.82 foot = 9.84 inch\n"
     ]
    }
   ],
   "source": [
    "\"\"\"\n",
    "Question 1:\n",
    "Viết chương trình nhập vào một số thực. Đơn vị tính cho số này là centimet (cm). Hãy in ra số\n",
    "tương đương tính bằng foot (số thực, có 2 số lẻ thập phân) và inch (số thực, có 2 số lẻ thập phân).\n",
    "Với 1 inch = 2.54 cm và 1 foot = 12 inches.\n",
    "\"\"\"\n",
    "\n",
    "cm = float(input(\"Please enter a number in centimeters:\"))\n",
    "inch = cm/2.54\n",
    "foot = inch / 12\n",
    "print(f\"{cm} cm = {round(foot, 2)} foot = {round(inch, 2)} inch\")"
   ]
  },
  {
   "cell_type": "code",
   "execution_count": 5,
   "metadata": {},
   "outputs": [
    {
     "name": "stdout",
     "output_type": "stream",
     "text": [
      "2:17:54\n"
     ]
    }
   ],
   "source": [
    "\"\"\"\n",
    "Question 2:\n",
    "Viết chương trình nhập vào số giây từ 0 tới 68399, đổi số giây này thành dạng [giờ:phút:giây], mỗi thành phần là một số nguyên có 2 chữ số.\n",
    "Ví dụ: 02:11:05\n",
    "\"\"\"\n",
    "\n",
    "seconds = int(input(\"Please enter a number of seconds:\"))\n",
    "\n",
    "if seconds < 0 or seconds > 683999:\n",
    "    print(\"Invalid input\")\n",
    "else:\n",
    "    hours = seconds // 3600\n",
    "    minute = (seconds % 3600) // 60\n",
    "    second = (seconds % 3600) % 60\n",
    "    print(f\"{hours}:{minute}:{second}\")\n"
   ]
  },
  {
   "cell_type": "code",
   "execution_count": 6,
   "metadata": {},
   "outputs": [
    {
     "name": "stdout",
     "output_type": "stream",
     "text": [
      "Số lớn nhất là: 4\n",
      "Số nhỏ nhất là: 1\n"
     ]
    }
   ],
   "source": [
    "\"\"\"\n",
    "Question 3:\n",
    "Viết chương trình nhập vào 4 số nguyên.\n",
    "Hiển thị ra số lớn nhất và nhỏ nhất\n",
    "Ví dụ:\n",
    "nhập vào 4 số 1,2,3,4 thì kết quả là:\n",
    "Số lớn nhất là: 4\n",
    "Số nhỏ nhất là: 1\n",
    "\"\"\"\n",
    "\n",
    "first_number = int(input(\"Please enter the first number:\"))\n",
    "second_number = int(input(\"Please enter the second number:\"))\n",
    "third_number = int(input(\"Please enter the third number:\"))\n",
    "fourth_number = int(input(\"Please enter the fourth number:\"))\n",
    "\n",
    "max_number = max(first_number, second_number, third_number, fourth_number)\n",
    "min_number = min(first_number, second_number, third_number, fourth_number)\n",
    "\n",
    "print(f\"Số lớn nhất là: {max_number}\")\n",
    "print(f\"Số nhỏ nhất là: {min_number}\")"
   ]
  },
  {
   "cell_type": "code",
   "execution_count": 7,
   "metadata": {},
   "outputs": [
    {
     "name": "stdout",
     "output_type": "stream",
     "text": [
      "Số thứ nhất nhỏ hơn số thứ hai\n"
     ]
    }
   ],
   "source": [
    "\"\"\"\n",
    "Question 4:\n",
    "Nhập vào hai số tự nhiên a và b. Tính hiệu của hai số đó.\n",
    "Nếu hiệu số lớn hơn 0 thì in ra dòng chữ [Số thứ nhất lớn hơn số thứ hai].\n",
    "Nếu hiệu số nhỏ hơn 0 thì in ra dòng chữ [Số thứ nhất nhỏ hơn số thứ hai].\n",
    "\"\"\"\n",
    "\n",
    "a = int(input(\"Please enter the first number:\"))\n",
    "b = int(input(\"Please enter the second number:\"))\n",
    "\n",
    "diff = a - b\n",
    "if diff > 0:\n",
    "    print(\"Số thứ nhất lớn hơn số thứ hai\")\n",
    "elif diff < 0:\n",
    "    print(\"Số thứ nhất nhỏ hơn số thứ hai\")\n",
    "else:\n",
    "    print(\"Hai số bằng nhau\")"
   ]
  },
  {
   "cell_type": "code",
   "execution_count": 8,
   "metadata": {},
   "outputs": [
    {
     "name": "stdout",
     "output_type": "stream",
     "text": [
      "15 chia hết cho 5\n"
     ]
    }
   ],
   "source": [
    "\"\"\"\n",
    "Question 5:\n",
    "Nhập vào 2 số tự nhiên a và b. Kiểm tra xem a có chia hết cho b không\n",
    "\"\"\"\n",
    "\n",
    "a = int(input(\"Please enter the first number:\"))\n",
    "b = int(input(\"Please enter the second number:\"))\n",
    "\n",
    "if a % b == 0:\n",
    "    print(f\"{a} chia hết cho {b}\")\n",
    "else:\n",
    "    print(f\"{a} không chia hết cho {b}\")"
   ]
  },
  {
   "cell_type": "code",
   "execution_count": 10,
   "metadata": {},
   "outputs": [
    {
     "name": "stdout",
     "output_type": "stream",
     "text": [
      "Học lực của học sinh là: Loại giỏi\n"
     ]
    }
   ],
   "source": [
    "\"\"\"\n",
    "Question 6:\n",
    "Xếp loại sinh viên theo các quy luật dưới đây:\n",
    "- Nếu điểm >= 9.0 - Loại xuất sắc\n",
    "- Nếu 8.0<= điểm < 9.0 - Loại giỏi\n",
    "- Nếu 7.0<= điểm < 8.0 - Loại khá\n",
    "\n",
    "- Nếu 6.0 <= điểm < 7.0 - Loại trung bình khá\n",
    "- Nếu 5.0 <= điểm < 6.0 - Loại trung bình\n",
    "- Nếu điểm < 5.0 - Loại kém\n",
    "Với điểm = ( (điểm toán)*2 + điểm lý + điểm hóa )/4\n",
    "Viết Chương trình:\n",
    "a. Nhập vào điểm 3 môn học\n",
    "b. Tính điểm trung bình\n",
    "c. Xác định học lực của học sinh dựa trên điểm trung bình\n",
    "d. Hiển thị học lực của học sinh\n",
    "\"\"\"\n",
    "\n",
    "# a. Nhập vào điểm 3 môn học\n",
    "math_point = float(input(\"Please enter the math point:\"))\n",
    "physics_point = float(input(\"Please enter the physics point:\"))\n",
    "chemistry_point = float(input(\"Please enter the chemistry point:\"))\n",
    "\n",
    "# b. Tính điểm trung bình\n",
    "avg_point = (math_point * 2 + physics_point + chemistry_point) / 4\n",
    "\n",
    "# c. Xác định học lực của học sinh dựa trên điểm trung bình\n",
    "if avg_point >= 9.0:\n",
    "    rank = \"Loại xuất sắc\"\n",
    "elif avg_point >= 8.0:\n",
    "    rank = \"Loại giỏi\"\n",
    "elif avg_point >= 7.0:\n",
    "    rank = \"Loại khá\"\n",
    "elif avg_point >= 6.0:\n",
    "    rank = \"Loại trung bình khá\"\n",
    "elif avg_point >= 5.0:\n",
    "    rank = \"Loại trung bình\"\n",
    "else:\n",
    "    rank = \"Loại kém\"\n",
    "\n",
    "# d. Hiển thị học lực của học sinh\n",
    "print(f\"Học lực của học sinh là: {rank}\")\n"
   ]
  },
  {
   "cell_type": "markdown",
   "metadata": {},
   "source": [
    "EXERCISE 2:"
   ]
  },
  {
   "cell_type": "code",
   "execution_count": 12,
   "metadata": {},
   "outputs": [
    {
     "name": "stdout",
     "output_type": "stream",
     "text": [
      "Tổng các chữ số của số vừa nhập là: 32\n"
     ]
    }
   ],
   "source": [
    "\"\"\"\n",
    "Question 1:\n",
    "Hãy viết chương trình tính tổng các chữ số của một số nguyên bất kỳ.\n",
    "Ví dụ: Số 8545604 có tổng các chữ số là: 8+5+4+5+6+0+4= 32\n",
    "\"\"\"\n",
    "\n",
    "number = int(input(\"Please enter a number:\"))\n",
    "total = 0\n",
    "while number > 0:\n",
    "    total += number % 10\n",
    "    number //= 10\n",
    "\n",
    "print(f\"Tổng các chữ số của số vừa nhập là: {total}\")\n"
   ]
  },
  {
   "cell_type": "code",
   "execution_count": 18,
   "metadata": {},
   "outputs": [
    {
     "name": "stdout",
     "output_type": "stream",
     "text": [
      "Số 28 được phân tích thành 2 x 2 x 7\n"
     ]
    }
   ],
   "source": [
    "\"\"\"\n",
    "Question 2:\n",
    "Viết chương trình phân tích một số nguyên thành các thừa số nguyên tố\n",
    "Ví dụ: Số 28 được phân tích thành 2 x 2 x 7\n",
    "\"\"\"\n",
    "\n",
    "number = int(input(\"Please enter a number:\"))\n",
    "numbers = number\n",
    "i = 2\n",
    "result = []\n",
    "while i <= numbers:\n",
    "    if numbers % i == 0:\n",
    "        result.append(i)\n",
    "        numbers //= i\n",
    "    else:\n",
    "        i += 1\n",
    "\n",
    "print(f\"Số {number} được phân tích thành {' x '.join(map(str, result))}\")"
   ]
  },
  {
   "cell_type": "code",
   "execution_count": 22,
   "metadata": {},
   "outputs": [
    {
     "name": "stdout",
     "output_type": "stream",
     "text": [
      "2 3 5 7 11 13 17 19 23 29 31 37 41 43 "
     ]
    }
   ],
   "source": [
    "\"\"\"\n",
    "Question 3:\n",
    "Viết chương trình liệt kê tất cả các số nguyên tố nhỏ hơn n cho trước.\n",
    "\"\"\"\n",
    "\n",
    "n = int(input(\"Please enter a number:\"))\n",
    "for i in range(2, n):\n",
    "    is_prime = True\n",
    "    for j in range(2, i):\n",
    "        if i % j == 0:\n",
    "            is_prime = False\n",
    "            break\n",
    "    if is_prime:\n",
    "        print(i, end=\" \")"
   ]
  },
  {
   "cell_type": "code",
   "execution_count": 23,
   "metadata": {},
   "outputs": [
    {
     "name": "stdout",
     "output_type": "stream",
     "text": [
      "2 3 5 7 11 "
     ]
    }
   ],
   "source": [
    "\"\"\"\n",
    "Question 4:\n",
    "Viết chương trình liệt kê n số nguyên tố đầu tiên.\n",
    "\"\"\"\n",
    "\n",
    "n = int(input(\"Please enter a number:\"))\n",
    "count = 0\n",
    "i = 2\n",
    "while count < n:\n",
    "    is_prime = True\n",
    "    for j in range(2, i):\n",
    "        if i % j == 0:\n",
    "            is_prime = False\n",
    "            break\n",
    "    if is_prime:\n",
    "        print(i, end=\" \")\n",
    "        count += 1\n",
    "    i += 1"
   ]
  },
  {
   "cell_type": "code",
   "execution_count": 25,
   "metadata": {},
   "outputs": [
    {
     "name": "stdout",
     "output_type": "stream",
     "text": [
      "Ước số chung lớn nhất của 15 và 7 là: 1\n",
      "Bội số chung nhỏ nhất của 15 và 7 là: 105\n"
     ]
    }
   ],
   "source": [
    "\"\"\"\n",
    "Question 5:\n",
    "Viết chương trình tìm ước số chung lớn nhất,\n",
    "bội số chung nhỏ nhất của hai số tự nhiên a và b.\n",
    "\"\"\"\n",
    "\n",
    "a = int(input(\"Please enter the first number:\"))\n",
    "b = int(input(\"Please enter the second number:\"))\n",
    "\n",
    "gcd = 1\n",
    "for i in range(2, min(a, b) + 1):\n",
    "    if a % i == 0 and b % i == 0:\n",
    "        gcd = i\n",
    "\n",
    "lcm = a * b // gcd\n",
    "for i in range(max(a, b), a * b + 1):\n",
    "    if i % a == 0 and i % b == 0:\n",
    "        lcm = i\n",
    "        break\n",
    "\n",
    "print(f\"Ước số chung lớn nhất của {a} và {b} là: {gcd}\")\n",
    "print(f\"Bội số chung nhỏ nhất của {a} và {b} là: {lcm}\")"
   ]
  },
  {
   "cell_type": "code",
   "execution_count": 34,
   "metadata": {},
   "outputs": [
    {
     "name": "stdout",
     "output_type": "stream",
     "text": [
      "Số Fibonacci thứ 1 là: 1\n"
     ]
    }
   ],
   "source": [
    "\"\"\"\n",
    "Question 6:\n",
    "Dãy số Fibonacci được định nghĩa như sau:\n",
    "\n",
    "F0 =1, F1 = 1; Fn = Fn-1 + Fn-2 với n>=2.\n",
    "\n",
    "Hãy viết chương trình tìm số Fibonacci thứ n.\n",
    "\"\"\"\n",
    "\n",
    "number = int(input(\"Please enter a number:\"))\n",
    "f0 = 1\n",
    "f1 = 1\n",
    "fn = 1\n",
    "if number == 0:\n",
    "    fn = f0\n",
    "elif number == 1:\n",
    "    fn = f1\n",
    "else:\n",
    "    for i in range(2, number):\n",
    "        fn = f0 + f1\n",
    "        f0 = f1\n",
    "        f1 = fn\n",
    "\n",
    "print(f\"Số Fibonacci thứ {number} là: {fn}\")"
   ]
  },
  {
   "cell_type": "code",
   "execution_count": 60,
   "metadata": {},
   "outputs": [
    {
     "name": "stdout",
     "output_type": "stream",
     "text": [
      "Số Fibonacci nhỏ hơn 5 là số nguyên tố:\n",
      "1 1 2 3 5 "
     ]
    }
   ],
   "source": [
    "\"\"\"\n",
    "Question 7:\n",
    "Nhập một số tự nhiên n.\n",
    "Hãy liệt kê các số Fibonaci nhỏ hơn n là số nguyên tố\n",
    "\"\"\"\n",
    "\n",
    "def fibonacci(n):\n",
    "    if n == 1:\n",
    "        return [1]\n",
    "    elif n == 2:\n",
    "        return [1, 1]\n",
    "    else:\n",
    "        fibs = [1, 1]\n",
    "        for i in range(2, n):\n",
    "            fibs.append(fibs[-1] + fibs[-2])\n",
    "        return fibs\n",
    "\n",
    "n = int(input(\"Nhập số tự nhiên n: \"))\n",
    "fibs = fibonacci(n)\n",
    "\n",
    "print(f\"Số Fibonacci nhỏ hơn {n} là số nguyên tố:\")\n",
    "for num in fibs:\n",
    "    print(num, end=\" \")\n",
    "\n",
    "\n"
   ]
  },
  {
   "cell_type": "code",
   "execution_count": 62,
   "metadata": {},
   "outputs": [
    {
     "name": "stdout",
     "output_type": "stream",
     "text": [
      "Tổng các chữ số của 12 là: 3\n",
      "12 được phân tích thành 2 x 2 x 3\n"
     ]
    }
   ],
   "source": [
    "\"\"\"\n",
    "Question 8:\n",
    "Viết chương trình nhập một số nguyên dương n và thực hiện các chức năng sau:\n",
    "a) Tính tổng các chữ số của n.\n",
    "b) Phân tích n thành các thừa số nguyên tố.\n",
    "\"\"\"\n",
    "\n",
    "def sum_digits(n):\n",
    "    total = 0\n",
    "    while n > 0:\n",
    "        total += n % 10\n",
    "        n //= 10\n",
    "    return total\n",
    "\n",
    "def prime_factors(n):\n",
    "    numbers = n\n",
    "    i = 2\n",
    "    result = []\n",
    "    while i <= numbers:\n",
    "        if numbers % i == 0:\n",
    "            result.append(i)\n",
    "            numbers //= i\n",
    "        else:\n",
    "            i += 1\n",
    "    return result\n",
    "\n",
    "n = int(input(\"Nhập số nguyên dương n: \"))\n",
    "print(f\"Tổng các chữ số của {n} là: {sum_digits(n)}\")\n",
    "print(f\"{n} được phân tích thành {' x '.join(map(str, prime_factors(n)))}\")\n"
   ]
  },
  {
   "cell_type": "code",
   "execution_count": 63,
   "metadata": {},
   "outputs": [
    {
     "name": "stdout",
     "output_type": "stream",
     "text": [
      "Các ước số của 20 là: [1, 2, 4, 5, 10, 20]\n",
      "Số lượng ước số của 20 là: 6\n",
      "Các ước số nguyên tố của 20 là: [1, 2, 5]\n"
     ]
    }
   ],
   "source": [
    "\"\"\"\n",
    "Question 9:\n",
    "Viết chương trình nhập một số nguyên dương n và thực hiện các chức năng sau:\n",
    "a) Liệt kê các ước số của n. Có bao nhiêu ước số.\n",
    "b) Liệt kê các ước số là nguyên tố của n.\n",
    "\"\"\"\n",
    "\n",
    "def divisors(n):\n",
    "    divs = []\n",
    "    for i in range(1, n + 1):\n",
    "        if n % i == 0:\n",
    "            divs.append(i)\n",
    "    return divs\n",
    "\n",
    "def prime_divisors(n):\n",
    "    divs = divisors(n)\n",
    "    primes = []\n",
    "    for div in divs:\n",
    "        is_prime = True\n",
    "        for i in range(2, div):\n",
    "            if div % i == 0:\n",
    "                is_prime = False\n",
    "                break\n",
    "        if is_prime:\n",
    "            primes.append(div)\n",
    "    return primes\n",
    "\n",
    "n = int(input(\"Nhập số nguyên dương n: \"))\n",
    "print(f\"Các ước số của {n} là: {divisors(n)}\")\n",
    "print(f\"Số lượng ước số của {n} là: {len(divisors(n))}\")\n",
    "print(f\"Các ước số nguyên tố của {n} là: {prime_divisors(n)}\")"
   ]
  },
  {
   "cell_type": "code",
   "execution_count": 65,
   "metadata": {},
   "outputs": [
    {
     "name": "stdout",
     "output_type": "stream",
     "text": [
      "Toi Di Code Dao\n"
     ]
    }
   ],
   "source": [
    "\"\"\"\n",
    "Question 10:\n",
    "Viết chương trình thực hiện chuẩn hoá một xâu ký tự nhập từ bàn phím (loại bỏ các dấu cách thừa, chuyển ký tự đầu mỗi từ thành chữ hoa, các ký tự khác thành chữ thường)\n",
    "\"\"\"\n",
    "\n",
    "s = input(\"Nhập xâu ký tự: \")\n",
    "s = s.strip()\n",
    "s = s.lower()\n",
    "s = s.title()\n",
    "print(s)"
   ]
  },
  {
   "cell_type": "code",
   "execution_count": 68,
   "metadata": {},
   "outputs": [
    {
     "name": "stdout",
     "output_type": "stream",
     "text": [
      "Từ dài nhất trong xâu là: code\n",
      "Từ dài nhất xuất hiện ở vị trí 2\n"
     ]
    }
   ],
   "source": [
    "\"\"\"\n",
    "Question 11:\n",
    "Viết chương trình thực hiện nhập một xâu ký tự\n",
    "a) Tìm từ dài nhất trong xâu đó.\n",
    "b) Từ đó xuất hiện ở vị trí nào?\n",
    "(Chú ý. nếu có nhiều từ có độ dài giống nhau thì chọn từ đầu tiên tìm thấy).\n",
    "\"\"\"\n",
    "\n",
    "s = input(\"Nhập xâu ký tự: \")\n",
    "words = s.split()\n",
    "max_word = max(words, key=len)\n",
    "print(f\"Từ dài nhất trong xâu là: {max_word}\")\n",
    "\n",
    "for i, word in enumerate(words):\n",
    "    if word == max_word:\n",
    "        print(f\"Từ dài nhất xuất hiện ở vị trí {i + 1}\")\n",
    "        break"
   ]
  },
  {
   "cell_type": "markdown",
   "metadata": {},
   "source": [
    "EXERCISE 3"
   ]
  },
  {
   "cell_type": "code",
   "execution_count": 70,
   "metadata": {},
   "outputs": [
    {
     "name": "stdout",
     "output_type": "stream",
     "text": [
      "-5! = 1\n"
     ]
    }
   ],
   "source": [
    "\"\"\"\n",
    "Question 2:\n",
    "Viết chương trình tính n! với n là số tự nhiên không âm nhập vào từ bàn phím. Trong đó: 0! = 1 n! = 1.2.3...n\n",
    "\"\"\"\n",
    "\n",
    "n = int(input(\"Nhập số tự nhiên n: \"))\n",
    "fact = 1\n",
    "if n > 0:\n",
    "    for i in range(1, n + 1):\n",
    "        fact *= i\n",
    "else:\n",
    "    fact = 1\n",
    "print(f\"{n}! = {fact}\")\n"
   ]
  }
 ],
 "metadata": {
  "kernelspec": {
   "display_name": "aio24_env",
   "language": "python",
   "name": "python3"
  },
  "language_info": {
   "codemirror_mode": {
    "name": "ipython",
    "version": 3
   },
   "file_extension": ".py",
   "mimetype": "text/x-python",
   "name": "python",
   "nbconvert_exporter": "python",
   "pygments_lexer": "ipython3",
   "version": "3.11.7"
  }
 },
 "nbformat": 4,
 "nbformat_minor": 2
}
